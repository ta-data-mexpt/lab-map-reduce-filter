{
 "cells": [
  {
   "cell_type": "markdown",
   "metadata": {},
   "source": [
    "# Before your start:\n",
    "- Read the README.md file\n",
    "- Comment as much as you can and use the resources in the README.md file\n",
    "- Happy learning!"
   ]
  },
  {
   "cell_type": "code",
   "execution_count": 45,
   "metadata": {},
   "outputs": [],
   "source": [
    "# import reduce from functools, numpy and pandas\n",
    "from functools import reduce\n",
    "import numpy as np\n",
    "import pandas as pd"
   ]
  },
  {
   "cell_type": "markdown",
   "metadata": {},
   "source": [
    "# Challenge 1 - Mapping\n",
    "\n",
    "#### We will use the map function to clean up a words in a book.\n",
    "\n",
    "In the following cell, we will read a text file containing the book The Prophet by Khalil Gibran."
   ]
  },
  {
   "cell_type": "code",
   "execution_count": 3,
   "metadata": {},
   "outputs": [
    {
     "output_type": "stream",
     "name": "stdout",
     "text": "['', 'the', 'project', 'gutenberg', 'ebook', 'of', 'the', 'prophet', 'by', 'kahlil', 'gibran', 'this', 'ebook', 'is', 'for', 'the', 'use', 'of', 'anyone', 'anywhere', 'in', 'the', 'united', 'states', 'and', 'most', 'other', 'parts', 'of', 'the', 'world', 'at', 'no', 'cost', 'and', 'with', 'almost', 'no', 'restrictions', 'whatsoever', 'you', 'may', 'copy', 'it', 'give', 'it', 'away', 'or', 're', 'use', 'it', 'under', 'the', 'terms', 'of', 'the', 'project', 'gutenberg', 'license', 'included', 'with', 'this', 'ebook', 'or', 'online', 'at', 'www', 'gutenberg', 'org', 'if', 'you', 'are', 'not', 'located', 'in', 'the', 'united', 'states', 'you', 'll', 'have', 'to', 'check', 'the', 'laws', 'of', 'the', 'country', 'where', 'you', 'are', 'located', 'before', 'using', 'this', 'ebook', 'title', 'the', 'prophet', 'author']\n"
    }
   ],
   "source": [
    "# load text\n",
    "filename = '58585-0.txt'\n",
    "file = open(filename, 'rt')\n",
    "text = file.read()\n",
    "file.close()\n",
    "# split based on words only\n",
    "import re\n",
    "words = re.split(r'\\W+', text)\n",
    "# remove punctuation from each word\n",
    "import string\n",
    "table = str.maketrans('', '', string.punctuation)\n",
    "stripped = [w.translate(table) for w in words]\n",
    "# convert to lower case\n",
    "words = [word.lower() for word in words]\n",
    "print(words[:100])"
   ]
  },
  {
   "cell_type": "markdown",
   "metadata": {},
   "source": [
    "#### Let's remove the first 568 words since they contain information about the book but are not part of the book itself. \n",
    "\n",
    "Do this by removing from `prophet` elements 0 through 567 of the list (you can also do this by keeping elements 568 through the last element)."
   ]
  },
  {
   "cell_type": "code",
   "execution_count": 10,
   "metadata": {
    "tags": [
     "outputPrepend"
    ]
   },
   "outputs": [
    {
     "output_type": "stream",
     "name": "stdout",
     "text": "['the', 'prophet', 'almustafa', 'the', '7', 'chosen', 'and', 'the', 'beloved', 'who']\n"
    }
   ],
   "source": [
    "prophet_raw = words[393:]"
   ]
  },
  {
   "cell_type": "markdown",
   "metadata": {},
   "source": [
    "If you look through the words, you will find that many words have a reference attached to them. For example, let's look at words 1 through 10."
   ]
  },
  {
   "cell_type": "code",
   "execution_count": 11,
   "metadata": {},
   "outputs": [
    {
     "output_type": "stream",
     "name": "stdout",
     "text": "['the', 'prophet', 'almustafa', 'the', '7', 'chosen', 'and', 'the', 'beloved', 'who']\n"
    }
   ],
   "source": [
    "print(prophet_raw[0:10])"
   ]
  },
  {
   "cell_type": "markdown",
   "metadata": {},
   "source": [
    "#### The next step is to create a function that will remove references. \n",
    "\n",
    "We will do this by splitting the string on the `{` character and keeping only the part before this character. Write your function below."
   ]
  },
  {
   "cell_type": "code",
   "execution_count": 20,
   "metadata": {},
   "outputs": [],
   "source": [
    "prophet = [x for x in prophet_raw if not x.isdigit()]"
   ]
  },
  {
   "cell_type": "markdown",
   "metadata": {},
   "source": [
    "Now that we have our function, use the `map()` function to apply this function to our book, The Prophet. Return the resulting list to a new list called `prophet_reference`"
   ]
  },
  {
   "cell_type": "code",
   "execution_count": 21,
   "metadata": {},
   "outputs": [
    {
     "output_type": "stream",
     "name": "stdout",
     "text": "['the', 'prophet', 'almustafa', 'the', 'chosen', 'and', 'the', 'beloved', 'who', 'was']\n"
    }
   ],
   "source": [
    "print(prophet[0:10])"
   ]
  },
  {
   "cell_type": "markdown",
   "metadata": {},
   "source": [
    "Another thing you may have noticed is that some words contain a line break. Let's write a function to split those words. Our function will return the string split on the character `\\n`. Write your function in the cell below."
   ]
  },
  {
   "cell_type": "code",
   "execution_count": 8,
   "metadata": {},
   "outputs": [],
   "source": [
    "# List Prophet already runs as a string-only one. "
   ]
  },
  {
   "cell_type": "markdown",
   "metadata": {},
   "source": [
    "Apply the `line_break` function to the `prophet_reference` list. Name the new list `prophet_line`."
   ]
  },
  {
   "cell_type": "code",
   "execution_count": null,
   "metadata": {},
   "outputs": [],
   "source": [
    "# List Prophet already runs as a string-only one. "
   ]
  },
  {
   "cell_type": "markdown",
   "metadata": {},
   "source": [
    "If you look at the elements of `prophet_line`, you will see that the function returned lists and not strings. Our list is now a list of lists. Flatten the list using list comprehension. Assign this new list to `prophet_flat`."
   ]
  },
  {
   "cell_type": "code",
   "execution_count": 11,
   "metadata": {},
   "outputs": [],
   "source": [
    "# List Prophet already runs as a string-only one. "
   ]
  },
  {
   "cell_type": "markdown",
   "metadata": {},
   "source": [
    "# Challenge 2 - Filtering\n",
    "\n",
    "When printing out a few words from the book, we see that there are words that we may not want to keep if we choose to analyze the corpus of text. Below is a list of words that we would like to get rid of. Create a function that will return false if it contains a word from the list of words specified and true otherwise."
   ]
  },
  {
   "cell_type": "code",
   "execution_count": 28,
   "metadata": {},
   "outputs": [
    {
     "output_type": "stream",
     "name": "stdout",
     "text": "['prophet', 'almustafa', 'chosen', 'beloved', 'dawn', 'unto', 'day', 'waited', 'twelve', 'years', 'city', 'orphalese', 'ship', 'return', 'bear', 'back', 'isle', 'birth', 'twelfth', 'year']\n"
    }
   ],
   "source": [
    "from nltk.corpus import stopwords \n",
    "\n",
    "stop_words = set(stopwords.words('english')) \n",
    "\n",
    "prophet_filtered = [w for w in prophet if not w in stop_words]\n",
    "\n",
    "print(prophet_filtered[0:20])"
   ]
  },
  {
   "cell_type": "markdown",
   "metadata": {},
   "source": [
    "Use the `filter()` function to filter out the words speficied in the `word_filter()` function. Store the filtered list in the variable `prophet_filter`."
   ]
  },
  {
   "cell_type": "markdown",
   "metadata": {},
   "source": [
    "# Bonus Challenge - Part 1\n",
    "\n",
    "Rewrite the `word_filter` function above to not be case sensitive."
   ]
  },
  {
   "cell_type": "code",
   "execution_count": 13,
   "metadata": {},
   "outputs": [],
   "source": [
    "prophet_filtered = [w for w in prophet if not w in stop_words]"
   ]
  },
  {
   "cell_type": "markdown",
   "metadata": {},
   "source": [
    "# Challenge 3 - Reducing\n",
    "\n",
    "#### Now that we have significantly cleaned up our text corpus, let's use the `reduce()` function to put the words back together into one long string separated by spaces. \n",
    "\n",
    "We will start by writing a function that takes two strings and concatenates them together with a space between the two strings."
   ]
  },
  {
   "cell_type": "code",
   "execution_count": 31,
   "metadata": {
    "tags": [
     "outputPrepend"
    ]
   },
   "outputs": [],
   "source": [
    "prophet_string = reduce(lambda x, y: x + y + ' ', prophet_filtered)"
   ]
  },
  {
   "cell_type": "markdown",
   "metadata": {},
   "source": [
    "Use the function above to reduce the text corpus in the list `prophet_filter` into a single string. Assign this new string to the variable `prophet_string`."
   ]
  },
  {
   "cell_type": "code",
   "execution_count": 32,
   "metadata": {
    "tags": [
     "outputPrepend"
    ]
   },
   "outputs": [
    {
     "output_type": "stream",
     "name": "stdout",
     "text": "esires lies silent knowledge beyond like seeds dreaming beneath snow heart dreams spring trust dreams hidden gate eternity fear death trembling shepherd stands king whose hand laid upon honour shepherd joyful beneath trembling shall wear mark king yet mindful trembling die stand naked wind melt sun cease breathing free breath restless tides may rise expand seek god unencumbered drink river silence shall indeed sing reached mountain top shall begin climb earth shall claim limbs shall truly dance evening almitra seeress said blessed day place spirit spoken answered spoke also listener descended steps temple people followed reached ship stood upon deck facing people raised voice said people orphalese wind bids leave less hasty wind yet must go wanderers ever seeking lonelier way begin day ended another day sunrise finds us sunset left us even earth sleeps travel seeds tenacious plant ripeness fullness heart given wind scattered brief days among briefer still words spoken voice fade ears love vanish memory come richer heart lips yielding spirit speak yea shall return tide though death may hide greater silence enfold yet seek understanding vain seek aught said truth truth shall reveal clearer voice words kin thoughts go wind people orphalese emptiness day fulfilment needs love let promise till another day man needs change love desire love satisfy needs know therefore greater silence shall return mist drifts away dawn leaving dew fields shall rise gather cloud fall rain unlike mist stillness night walked streets spirit entered houses heart beats heart breath upon face knew ay knew joy pain sleep dreams dreams oftentimes among lake among mountains mirrored summits bending slopes even passing flocks thoughts desires silence came laughter children streams longing youths rivers reached depth streams rivers ceased yet sing illustration sweeter still laughter greater longing came boundless vast man cells sinews whose chant singing soundless throbbing vast man vast beholding beheld loved distances love reach vast sphere visions expectations presumptions outsoar flight like giant oak tree covered apple blossoms vast man might binds earth fragrance lifts space durability deathless told even like chain weak weakest link half truth also strong strongest link measure smallest deed reckon power ocean frailty foam judge failures cast blame upon seasons inconstancy ay like ocean though heavy grounded ships await tide upon shores yet even like ocean cannot hasten tides like seasons also though winter deny spring yet spring reposing within smiles drowsiness offended think say things order may say one praised us well saw good us speak words know thought word knowledge shadow wordless knowledge thoughts words waves sealed memory keeps records yesterdays ancient days earth knew us nights earth wrought confusion wise men come give wisdom came take wisdom behold found greater wisdom flame spirit ever gathering heedless expansion bewail withering days life quest life bodies fear grave graves mountains plains cradle stepping stone whenever pass field laid ancestors look well thereupon shall see children dancing hand hand verily often make merry without knowing others come golden promises made unto faith given riches power glory less promise given yet generous given deeper thirsting life surely greater gift man turns aims parching lips life fountain illustration lies honour reward whenever come fountain drink find living water thirsty drinks drink deemed proud shy receive gifts proud indeed receive wages gifts though eaten berries among hills would sit board slept portico temple would gladly sheltered yet loving mindfulness days nights made food sweet mouth girdled sleep visions bless give much know give verily kindness gazes upon mirror turns stone good deed calls tender names becomes parent curse called aloof drunk aloneness said holds council trees forest men sits alone hill tops looks upon city true climbed hills walked remote places could seen save great height great distance one indeed near unless tar others among called unto words said stranger stranger lover unreachable heights dwell among summits eagles build nests seek unattainable storms would trap net vaporous birds hunt sky come one us descend appease hunger bread quench thirst wine solitude souls said things solitude deeper would known sought secret joy pain hunted larger selves walk sky hunter also hunted many arrows left bow seek breast flier also creeper wings spread sun shadow upon earth turtle believer also doubter often put finger wound might greater belief greater knowledge belief knowledge say enclosed within bodies confined houses fields dwells mountain roves wind thing crawls sun warmth digs holes darkness safety thing free spirit envelops earth moves ether vague words seek clear vague nebulous beginning things end fain would remember beginning life lives conceived mist crystal knows crystal mist decay would remember remembering seems feeble bewildered strongest determined breath erected hardened structure bones dream none remember dreamt builded city fashioned could see tides breath would cease see else could hear whispering dream would hear sound see hear well veil clouds eyes shall lifted hands wove clay fills ears shall pierced fingers kneaded shall see shall hear yet shall deplore known blindness regret deaf day shall know hidden purposes things shall bless darkness would bless light saying things looked saw pilot ship standing helm gazing full sails distance said patient patient captain ship wind blows restless sails even rudder begs direction yet quietly captain awaits silence mariners heard choir greater sea heard patiently shall wait longer ready stream reached sea great mother holds son breast fare well people orphalese day ended closing upon us even water lily upon tomorrow given us shall keep suffices must come together together stretch hands unto giver forget shall come back little longing shall gather dust foam another body little moment rest upon wind another woman shall bear farewell youth spent yesterday met dream sung aloneness longings built tower sky sleep fled dream longer dawn noontide upon us half waking turned fuller day must part twilight memory meet shall speak together shall sing deeper song hands meet another dream shall build another tower sky saying made signal seamen straightway weighed anchor cast ship loose moorings moved eastward cry came people single heart rose dusk carried sea like great trumpeting almitra silent gazing ship vanished mist people dispersed still stood alone upon sea wall remembering heart saying little moment rest upon wind another woman shall bear illustration end project gutenberg ebook prophet kahlil gibran end project gutenberg ebook prophet file named txt zip associated files various formats found http www gutenberg org produced david widger page images generously provided internet archive updated editions replace previous one old editions renamed creating works print editions protected u copyright law means one owns united states copyright works foundation copy distribute united states without permission without paying copyright royalties special rules set forth general terms use part license apply copying distributing project gutenberg tm electronic works protect project gutenberg tm concept trademark project gutenberg registered trademark may used charge ebooks unless receive specific permission charge anything copies ebook complying rules easy may use ebook nearly purpose creation derivative works reports performances research may modified printed given away may practically anything united states ebooks protected u copyright law redistribution subject trademark license especially commercial redistribution start full license full project gutenberg license please read distribute use work protect project gutenberg tm mission promoting free distribution electronic works using distributing work work associated way phrase project gutenberg agree comply terms full project gutenberg tm license available file online www gutenberg org license section general terms use redistributing project gutenberg tm electronic works reading using part project gutenberg tm electronic work indicate read understand agree accept terms license intellectual property trademark copyright agreement agree abide terms agreement must cease using return destroy copies project gutenberg tm electronic works possession paid fee obtaining copy access project gutenberg tm electronic work agree bound terms agreement may obtain refund person entity paid fee set forth paragraph e b project gutenberg registered trademark may used associated way electronic work people agree bound terms agreement things project gutenberg tm electronic works even without complying full terms agreement see paragraph c lot things project gutenberg tm electronic works follow terms agreement help preserve free future access project gutenberg tm electronic works see paragraph e c project gutenberg literary archive foundation foundation pglaf owns compilation copyright collection project gutenberg tm electronic works nearly individual works collection public domain united states individual work unprotected copyright law united states located united states claim right prevent copying distributing performing displaying creating derivative works based work long references project gutenberg removed course hope support project gutenberg tm mission promoting free access electronic works freely sharing project gutenberg tm works compliance terms agreement keeping project gutenberg tm name associated work easily comply terms agreement keeping work format attached full project gutenberg tm license share without charge others copyright laws place located also govern work copyright laws countries constant state change outside united states check laws country addition terms agreement downloading copying displaying performing distributing creating derivative works based work project gutenberg tm work foundation makes representations concerning copyright status work country outside united states e unless removed references project gutenberg e following sentence active links immediate access full project gutenberg tm license must appear prominently whenever copy project gutenberg tm work work phrase project gutenberg appears phrase project gutenberg associated accessed displayed performed viewed copied distributed ebook use anyone anywhere united states parts world cost almost restrictions whatsoever may copy give away use terms project gutenberg license included ebook online www gutenberg org located united states check laws country located using ebook e individual project gutenberg tm electronic work derived texts protected u copyright law contain notice indicating posted permission copyright holder work copied distributed anyone united states without paying fees charges redistributing providing access work phrase project gutenberg associated appearing work must comply either requirements paragraphs e e obtain permission use work project gutenberg tm trademark set forth paragraphs e e e individual project gutenberg tm electronic work posted permission copyright holder use distribution must comply paragraphs e e additional terms imposed copyright holder additional terms linked project gutenberg tm license works posted permission copyright holder found beginning work e unlink detach remove full project gutenberg tm license terms work files containing part work work associated project gutenberg tm e copy display perform distribute redistribute electronic work part electronic work without prominently displaying sentence set forth paragraph e active links immediate access full terms project gutenberg tm license e may convert distribute work binary compressed marked nonproprietary proprietary form including word processing hypertext form however provide access distribute copies project gutenberg tm work format plain vanilla ascii format used official version posted official project gutenberg tm web site www gutenberg org must additional cost fee expense user provide copy means exporting copy means obtaining copy upon request work original plain vanilla ascii form alternate format must include full project gutenberg tm license specified paragraph e e charge fee access viewing displaying performing copying distributing project gutenberg tm works unless comply paragraph e e e may charge reasonable fee copies providing access distributing project gutenberg tm electronic works provided pay royalty fee gross profits derive use project gutenberg tm works calculated using method already use calculate applicable taxes fee owed owner project gutenberg tm trademark agreed donate royalties paragraph project gutenberg literary archive foundation royalty payments must paid within days following date prepare legally required prepare periodic tax returns royalty payments clearly marked sent project gutenberg literary archive foundation address specified section information donations project gutenberg literary archive foundation provide full refund money paid user notifies writing e mail within days receipt agree terms full project gutenberg tm license must require user return destroy copies works possessed physical medium discontinue use access copies project gutenberg tm works provide accordance paragraph f full refund money paid work replacement copy defect electronic work discovered reported within days receipt work comply terms agreement free distribution project gutenberg tm works e wish charge fee distribute project gutenberg tm electronic work group works different terms set forth agreement must obtain permission writing project gutenberg literary archive foundation project gutenberg trademark llc owner project gutenberg tm trademark contact foundation set forth section f f project gutenberg volunteers employees expend considerable effort identify copyright research transcribe proofread works protected u copyright law creating project gutenberg tm collection despite efforts project gutenberg tm electronic works medium may stored may contain defects limited incomplete inaccurate corrupt data transcription errors copyright intellectual property infringement defective damaged disk medium computer virus computer codes damage cannot read equipment f limited warranty disclaimer damages except right replacement refund described paragraph f project gutenberg literary archive foundation owner project gutenberg tm trademark party distributing project gutenberg tm electronic work agreement disclaim liability damages costs expenses including legal fees agree remedies negligence strict liability breach warranty breach contract except provided paragraph f agree foundation trademark owner distributor agreement liable actual direct indirect consequential punitive incidental damages even give notice possibility damage f limited right replacement refund discover defect electronic work within days receiving receive refund money paid sending written explanation person received work received work physical medium must return medium written explanation person entity provided defective work may elect provide replacement copy lieu refund received work electronically person entity providing may choose give second opportunity receive work electronically lieu refund second copy also defective may demand refund writing without opportunities fix problem f except limited right replacement refund set forth paragraph f work provided warranties kind express implied including limited warranties merchantability fitness purpose f states allow disclaimers certain implied warranties exclusion limitation certain types damages disclaimer limitation set forth agreement violates law state applicable agreement agreement shall interpreted make maximum disclaimer limitation permitted applicable state law invalidity unenforceability provision agreement shall void remaining provisions f indemnity agree indemnify hold foundation trademark owner agent employee foundation anyone providing copies project gutenberg tm electronic works accordance agreement volunteers associated production promotion distribution project gutenberg tm electronic works harmless liability costs expenses including legal fees arise directly indirectly following cause occur distribution project gutenberg tm work b alteration modification additions deletions project gutenberg tm work c defect cause section information mission project gutenberg tm project gutenberg tm synonymous free distribution electronic works formats readable widest variety computers including obsolete old middle aged new computers exists efforts hundreds volunteers donations people walks life volunteers financial support provide volunteers assistance need critical reaching project gutenberg tm goals ensuring project gutenberg tm collection remain freely available generations come project gutenberg literary archive foundation created provide secure permanent future project gutenberg tm future generations learn project gutenberg literary archive foundation efforts donations help see sections foundation information page www gutenberg org section information project gutenberg literary archive foundation project gutenberg literary archive foundation non profit c educational corporation organized laws state mississippi granted tax exempt status internal revenue service foundation ein federal tax identification number contributions project gutenberg literary archive foundation tax deductible full extent permitted u federal laws state laws foundation principal office fairbanks alaska mailing address po box fairbanks ak volunteers employees scattered throughout numerous locations business office located north west salt lake city ut email contact links date contact information found foundation web site official page www gutenberg org contact additional contact information dr gregory b newby chief executive director gbnewby pglaf org section information donations project gutenberg literary archive foundation project gutenberg tm depends upon cannot survive without wide spread public support donations carry mission increasing number public domain licensed works freely distributed machine readable form accessible widest array equipment including outdated equipment many small donations particularly important maintaining tax exempt status irs foundation committed complying laws regulating charities charitable donations states united states compliance requirements uniform takes considerable effort much paperwork many fees meet keep requirements solicit donations locations received written confirmation compliance send donations determine status compliance particular state visit www gutenberg org donate cannot solicit contributions states met solicitation requirements know prohibition accepting unsolicited donations donors states approach us offers donate international donations gratefully accepted cannot make statements concerning tax treatment donations received outside united states u laws alone swamp small staff please check project gutenberg web pages current donation methods addresses donations accepted number ways including checks online payments credit card donations donate please visit www gutenberg org donate section general information project gutenberg tm electronic works professor michael hart originator project gutenberg tm concept library electronic works could freely shared anyone forty years produced distributed project gutenberg tm ebooks loose network volunteer support project gutenberg tm ebooks often created several printed editions confirmed protected copyright u unless copyright notice included thus necessarily keep ebooks compliance particular paper edition people start web site main pg search facility www gutenberg org web site includes information project gutenberg tm including make donations project gutenberg literary archive foundation help produce new ebooks subscribe email newsletter hear new ebooks  \n"
    }
   ],
   "source": [
    "print(prophet_flattened)"
   ]
  },
  {
   "cell_type": "markdown",
   "metadata": {},
   "source": [
    "# Challenge 4 - Applying Functions to DataFrames\n",
    "\n",
    "#### Our next step is to use the apply function to a dataframe and transform all cells.\n",
    "\n",
    "To do this, we will load a dataset below and then write a function that will perform the transformation."
   ]
  },
  {
   "cell_type": "code",
   "execution_count": 35,
   "metadata": {},
   "outputs": [],
   "source": [
    "pm25 = pd.read_csv('PRSA_data_2010.1.1-2014.12.31.csv')"
   ]
  },
  {
   "cell_type": "markdown",
   "metadata": {},
   "source": [
    "Let's look at the data using the `head()` function."
   ]
  },
  {
   "cell_type": "code",
   "execution_count": 37,
   "metadata": {},
   "outputs": [
    {
     "output_type": "execute_result",
     "data": {
      "text/plain": "   No  year  month  day  hour  pm2.5  DEWP  TEMP    PRES cbwd    Iws  Is  Ir\n0   1  2010      1    1     0    NaN   -21 -11.0  1021.0   NW   1.79   0   0\n1   2  2010      1    1     1    NaN   -21 -12.0  1020.0   NW   4.92   0   0\n2   3  2010      1    1     2    NaN   -21 -11.0  1019.0   NW   6.71   0   0\n3   4  2010      1    1     3    NaN   -21 -14.0  1019.0   NW   9.84   0   0\n4   5  2010      1    1     4    NaN   -20 -12.0  1018.0   NW  12.97   0   0",
      "text/html": "<div>\n<style scoped>\n    .dataframe tbody tr th:only-of-type {\n        vertical-align: middle;\n    }\n\n    .dataframe tbody tr th {\n        vertical-align: top;\n    }\n\n    .dataframe thead th {\n        text-align: right;\n    }\n</style>\n<table border=\"1\" class=\"dataframe\">\n  <thead>\n    <tr style=\"text-align: right;\">\n      <th></th>\n      <th>No</th>\n      <th>year</th>\n      <th>month</th>\n      <th>day</th>\n      <th>hour</th>\n      <th>pm2.5</th>\n      <th>DEWP</th>\n      <th>TEMP</th>\n      <th>PRES</th>\n      <th>cbwd</th>\n      <th>Iws</th>\n      <th>Is</th>\n      <th>Ir</th>\n    </tr>\n  </thead>\n  <tbody>\n    <tr>\n      <th>0</th>\n      <td>1</td>\n      <td>2010</td>\n      <td>1</td>\n      <td>1</td>\n      <td>0</td>\n      <td>NaN</td>\n      <td>-21</td>\n      <td>-11.0</td>\n      <td>1021.0</td>\n      <td>NW</td>\n      <td>1.79</td>\n      <td>0</td>\n      <td>0</td>\n    </tr>\n    <tr>\n      <th>1</th>\n      <td>2</td>\n      <td>2010</td>\n      <td>1</td>\n      <td>1</td>\n      <td>1</td>\n      <td>NaN</td>\n      <td>-21</td>\n      <td>-12.0</td>\n      <td>1020.0</td>\n      <td>NW</td>\n      <td>4.92</td>\n      <td>0</td>\n      <td>0</td>\n    </tr>\n    <tr>\n      <th>2</th>\n      <td>3</td>\n      <td>2010</td>\n      <td>1</td>\n      <td>1</td>\n      <td>2</td>\n      <td>NaN</td>\n      <td>-21</td>\n      <td>-11.0</td>\n      <td>1019.0</td>\n      <td>NW</td>\n      <td>6.71</td>\n      <td>0</td>\n      <td>0</td>\n    </tr>\n    <tr>\n      <th>3</th>\n      <td>4</td>\n      <td>2010</td>\n      <td>1</td>\n      <td>1</td>\n      <td>3</td>\n      <td>NaN</td>\n      <td>-21</td>\n      <td>-14.0</td>\n      <td>1019.0</td>\n      <td>NW</td>\n      <td>9.84</td>\n      <td>0</td>\n      <td>0</td>\n    </tr>\n    <tr>\n      <th>4</th>\n      <td>5</td>\n      <td>2010</td>\n      <td>1</td>\n      <td>1</td>\n      <td>4</td>\n      <td>NaN</td>\n      <td>-20</td>\n      <td>-12.0</td>\n      <td>1018.0</td>\n      <td>NW</td>\n      <td>12.97</td>\n      <td>0</td>\n      <td>0</td>\n    </tr>\n  </tbody>\n</table>\n</div>"
     },
     "metadata": {},
     "execution_count": 37
    }
   ],
   "source": [
    "pm25.head()"
   ]
  },
  {
   "cell_type": "markdown",
   "metadata": {},
   "source": [
    "The next step is to create a function that divides a cell by 24 to produce an hourly figure. Write the function below."
   ]
  },
  {
   "cell_type": "code",
   "execution_count": 42,
   "metadata": {},
   "outputs": [],
   "source": [
    "def hourly(x):\n",
    "    '''\n",
    "    Input: A numerical value\n",
    "    Output: The value divided by 24\n",
    "        \n",
    "    Example:\n",
    "    Input: 48\n",
    "    Output: 2.0\n",
    "    '''\n",
    "    \n",
    "    # Your code here:\n",
    "    return x/24"
   ]
  },
  {
   "cell_type": "markdown",
   "metadata": {},
   "source": [
    "Apply this function to the columns `Iws`, `Is`, and `Ir`. Store this new dataframe in the variable `pm25_hourly`."
   ]
  },
  {
   "cell_type": "code",
   "execution_count": 60,
   "metadata": {},
   "outputs": [
    {
     "output_type": "stream",
     "name": "stdout",
     "text": "[[0.07458333 0.         0.        ]\n [0.205      0.         0.        ]\n [0.27958333 0.         0.        ]\n [0.41       0.         0.        ]\n [0.54041667 0.         0.        ]\n [0.67083333 0.         0.        ]\n [0.80125    0.         0.        ]\n [0.87583333 0.         0.        ]\n [1.00625    0.         0.        ]\n [1.13666667 0.         0.        ]]\n"
    }
   ],
   "source": [
    "pm25_numerics = pm25[['Iws', 'Is', 'Ir']]\n",
    "\n",
    "pm25_hourly = np.apply_along_axis(hourly, axis = 0, arr = pm25_numerics)\n",
    "\n",
    "print(pm25_hourly[0:10])"
   ]
  },
  {
   "cell_type": "markdown",
   "metadata": {},
   "source": [
    "#### Our last challenge will be to create an aggregate function and apply it to a select group of columns in our dataframe.\n",
    "\n",
    "Write a function that returns the standard deviation of a column divided by the length of a column minus 1. Since we are using pandas, do not use the `len()` function. One alternative is to use `count()`. Also, use the numpy version of standard deviation."
   ]
  },
  {
   "cell_type": "code",
   "execution_count": 66,
   "metadata": {},
   "outputs": [],
   "source": [
    "def sample_sd(x):\n",
    "    '''\n",
    "    Input: A Pandas series of values\n",
    "    Output: the standard deviation divided by the number of elements in the series\n",
    "        \n",
    "    Example:\n",
    "    Input: pd.Series([1,2,3,4])\n",
    "    Output: 0.3726779962\n",
    "    '''\n",
    "    \n",
    "    # Your code here:\n",
    "    return (x.std() / pm25_numerics.count()) - 1\n",
    "    "
   ]
  },
  {
   "cell_type": "code",
   "execution_count": 67,
   "metadata": {},
   "outputs": [
    {
     "output_type": "execute_result",
     "data": {
      "text/plain": "array([[-0.99885884, -0.99998265, -0.99996769],\n       [-0.99885884, -0.99998265, -0.99996769],\n       [-0.99885884, -0.99998265, -0.99996769]])"
     },
     "metadata": {},
     "execution_count": 67
    }
   ],
   "source": [
    "np.apply_along_axis(sample_sd, axis = 0, arr = pm25_numerics)"
   ]
  },
  {
   "cell_type": "code",
   "execution_count": null,
   "metadata": {},
   "outputs": [],
   "source": []
  }
 ],
 "metadata": {
  "kernelspec": {
   "display_name": "Python 3.7.6 64-bit ('anaconda3': virtualenv)",
   "language": "python",
   "name": "python37664bitanaconda3virtualenv0697af1ee67a458e9253591065064715"
  },
  "language_info": {
   "codemirror_mode": {
    "name": "ipython",
    "version": 3
   },
   "file_extension": ".py",
   "mimetype": "text/x-python",
   "name": "python",
   "nbconvert_exporter": "python",
   "pygments_lexer": "ipython3",
   "version": "3.7.6-final"
  }
 },
 "nbformat": 4,
 "nbformat_minor": 2
}